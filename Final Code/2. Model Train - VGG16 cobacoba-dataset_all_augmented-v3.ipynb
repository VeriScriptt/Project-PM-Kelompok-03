{
 "cells": [
  {
   "cell_type": "markdown",
   "metadata": {},
   "source": [
    "# Membuat Classifier nya"
   ]
  },
  {
   "cell_type": "code",
   "execution_count": 1,
   "metadata": {},
   "outputs": [],
   "source": [
    "    # !pip install tensorflow\n",
    "# !pip install pillow"
   ]
  },
  {
   "cell_type": "code",
   "execution_count": 2,
   "metadata": {
    "ExecuteTime": {
     "end_time": "2020-04-27T23:07:41.569964Z",
     "start_time": "2020-04-27T23:07:29.039041Z"
    }
   },
   "outputs": [],
   "source": [
    "import tensorflow as tf"
   ]
  },
  {
   "cell_type": "code",
   "execution_count": 3,
   "metadata": {
    "ExecuteTime": {
     "end_time": "2020-04-28T00:15:16.601007Z",
     "start_time": "2020-04-28T00:15:16.598774Z"
    }
   },
   "outputs": [],
   "source": [
    "# Define Input Parameters\n",
    "dim = (224, 224)\n",
    "# dim = (456, 456)\n",
    "channel = (3, )\n",
    "input_shape = dim + channel\n",
    "\n",
    "#batch size\n",
    "batch_size = 32\n",
    "\n",
    "#Epoch\n",
    "epoch = 10"
   ]
  },
  {
   "cell_type": "markdown",
   "metadata": {},
   "source": [
    "# Membuat dataset generator"
   ]
  },
  {
   "cell_type": "code",
   "execution_count": 4,
   "metadata": {
    "ExecuteTime": {
     "end_time": "2020-04-27T23:07:41.609100Z",
     "start_time": "2020-04-27T23:07:41.582485Z"
    }
   },
   "outputs": [],
   "source": [
    "from tensorflow.keras.preprocessing.image import ImageDataGenerator"
   ]
  },
  {
   "cell_type": "markdown",
   "metadata": {},
   "source": [
    "## Mendefinisikan Data Generatornya"
   ]
  },
  {
   "cell_type": "code",
   "execution_count": 5,
   "metadata": {
    "ExecuteTime": {
     "end_time": "2020-04-27T23:07:41.619545Z",
     "start_time": "2020-04-27T23:07:41.614388Z"
    }
   },
   "outputs": [],
   "source": [
    "train_datagen = ImageDataGenerator(rescale=1. / 255)\n",
    "val_datagen   = ImageDataGenerator(rescale=1. / 255)\n",
    "test_datagen  = ImageDataGenerator(rescale=1. / 255)\n"
   ]
  },
  {
   "cell_type": "markdown",
   "metadata": {},
   "source": [
    "## Mendefinisikan asal folder sumber file berasal"
   ]
  },
  {
   "cell_type": "code",
   "execution_count": 6,
   "metadata": {
    "ExecuteTime": {
     "end_time": "2020-04-28T03:55:43.409949Z",
     "start_time": "2020-04-28T03:55:43.090028Z"
    }
   },
   "outputs": [
    {
     "name": "stdout",
     "output_type": "stream",
     "text": [
      "Found 2800 images belonging to 3 classes.\n",
      "Found 350 images belonging to 3 classes.\n",
      "Found 350 images belonging to 3 classes.\n"
     ]
    }
   ],
   "source": [
    "# binary = [1,0,0,0,0] [0,1,0,0,0] [0,0,1,0,0] [0,0,0,1,0] [0,0,0,0,1]\n",
    "# categorical = 1,2,3,4,5\n",
    "\n",
    "train_generator = train_datagen.flow_from_directory('all_augmented_final/train/',\n",
    "                                                    target_size=dim,\n",
    "                                                    batch_size=batch_size,\n",
    "                                                    class_mode='categorical',\n",
    "                                                    shuffle=True)\n",
    "\n",
    "val_generator = val_datagen.flow_from_directory('all_augmented_final/validation/',\n",
    "                                                target_size=dim,\n",
    "                                                batch_size=batch_size,\n",
    "                                                class_mode='categorical',\n",
    "                                                shuffle=True)\n",
    "\n",
    "test_generator = test_datagen.flow_from_directory( 'all_augmented_final/test/',\n",
    "                                                    target_size=dim,\n",
    "                                                    batch_size=batch_size,\n",
    "                                                    class_mode='categorical',\n",
    "                                                    shuffle=False  # Jangan acak urutan test data\n",
    "                                                )\n",
    "\n",
    "num_class = test_generator.num_classes\n",
    "labels = train_generator.class_indices.keys()"
   ]
  },
  {
   "cell_type": "code",
   "execution_count": 7,
   "metadata": {
    "ExecuteTime": {
     "end_time": "2020-04-28T03:55:48.345523Z",
     "start_time": "2020-04-28T03:55:48.343497Z"
    },
    "run_control": {
     "marked": true
    }
   },
   "outputs": [
    {
     "name": "stdout",
     "output_type": "stream",
     "text": [
      "dict_keys(['Keriting', 'Kuning', 'Layu'])\n"
     ]
    }
   ],
   "source": [
    "print(labels)"
   ]
  },
  {
   "cell_type": "markdown",
   "metadata": {},
   "source": [
    "## Membuat tf.data untuk kompabilitas yang lebih baik untuk tensorflow 2.1 (tf.keras)"
   ]
  },
  {
   "cell_type": "code",
   "execution_count": 8,
   "metadata": {
    "ExecuteTime": {
     "end_time": "2020-04-27T23:07:42.164380Z",
     "start_time": "2020-04-27T23:07:42.161649Z"
    }
   },
   "outputs": [],
   "source": [
    "import tensorflow as tf\n",
    "\n",
    "def tf_data_generator(generator, input_shape):\n",
    "    num_class = generator.num_classes\n",
    "    # Mendefinisikan output_signature\n",
    "    output_signature = (\n",
    "        tf.TensorSpec(shape=(None, input_shape[0], input_shape[1], input_shape[2]), dtype=tf.float32),\n",
    "        tf.TensorSpec(shape=(None, num_class), dtype=tf.float32)\n",
    "    )\n",
    "    tf_generator = tf.data.Dataset.from_generator(\n",
    "        lambda: generator,\n",
    "        output_signature=output_signature\n",
    "    )\n",
    "    return tf_generator"
   ]
  },
  {
   "cell_type": "code",
   "execution_count": 9,
   "metadata": {
    "ExecuteTime": {
     "end_time": "2020-04-27T23:07:42.240950Z",
     "start_time": "2020-04-27T23:07:42.168871Z"
    }
   },
   "outputs": [],
   "source": [
    "# Menginisialisasi data generator\n",
    "train_data = tf_data_generator(train_generator, input_shape)\n",
    "test_data = tf_data_generator(test_generator, input_shape)\n",
    "val_data = tf_data_generator(val_generator, input_shape)"
   ]
  },
  {
   "cell_type": "markdown",
   "metadata": {},
   "source": [
    "# Using Pre-trained model / Transfer Learning"
   ]
  },
  {
   "cell_type": "code",
   "execution_count": 10,
   "metadata": {},
   "outputs": [],
   "source": [
    "from tensorflow.keras.applications import VGG16\n",
    "from tensorflow.keras.models import Model\n",
    "from tensorflow.keras.layers import Flatten, Dense, Dropout\n",
    "from tensorflow.keras.optimizers import Adam\n",
    "\n",
    "# Memuat model VGG16 pretrained tanpa top layer\n",
    "base_model = VGG16(weights='imagenet', include_top=False, input_shape=(224, 224, 3))\n",
    "\n",
    "\n",
    "# Menambahkan lapisan kustom untuk klasifikasi\n",
    "x = base_model.output\n",
    "x = Flatten()(x)  # Bisa diganti dengan GlobalAveragePooling2D jika diinginkan\n",
    "x = Dense(256, activation='relu')(x)  # Dense layer pertama\n",
    "x = Dropout(0.5)(x)  # Dropout dengan rate 50%\n",
    "x = Dense(train_generator.num_classes, activation='softmax')(x)  # Lapisan output\n",
    "\n",
    "# Membuat model akhir\n",
    "model = Model(inputs=base_model.input, outputs=x)\n",
    "\n",
    "# Membekukan semua layer pada base model agar tidak dilatih ulang\n",
    "for layer in base_model.layers:\n",
    "    layer.trainable = False\n"
   ]
  },
  {
   "cell_type": "code",
   "execution_count": 11,
   "metadata": {},
   "outputs": [],
   "source": [
    "from tensorflow.keras.optimizers import Adam\n",
    "\n",
    "# Kompilasi model dengan Adam optimizer\n",
    "model.compile(optimizer=Adam(learning_rate=0.001), \n",
    "              loss='categorical_crossentropy', \n",
    "              metrics=['accuracy'])\n"
   ]
  },
  {
   "cell_type": "markdown",
   "metadata": {},
   "source": [
    "## Visualize The final model"
   ]
  },
  {
   "cell_type": "code",
   "execution_count": 12,
   "metadata": {
    "ExecuteTime": {
     "end_time": "2020-04-28T00:06:55.440845Z",
     "start_time": "2020-04-28T00:06:55.439197Z"
    }
   },
   "outputs": [],
   "source": [
    "# import tensorflow as tf"
   ]
  },
  {
   "cell_type": "code",
   "execution_count": 13,
   "metadata": {
    "ExecuteTime": {
     "end_time": "2020-04-28T00:06:58.089548Z",
     "start_time": "2020-04-28T00:06:56.350302Z"
    },
    "scrolled": true
   },
   "outputs": [],
   "source": [
    "# model_viz = tf.keras.utils.plot_model(model,\n",
    "#                           to_file='model.png',\n",
    "#                           show_shapes=True,\n",
    "#                           show_layer_names=True,\n",
    "#                           rankdir='TB',\n",
    "#                           expand_nested=True,\n",
    "#                           dpi=55)\n",
    "# model_viz"
   ]
  },
  {
   "cell_type": "markdown",
   "metadata": {},
   "source": [
    "# Train Model"
   ]
  },
  {
   "cell_type": "code",
   "execution_count": 14,
   "metadata": {
    "ExecuteTime": {
     "end_time": "2020-04-28T04:27:13.684881Z",
     "start_time": "2020-04-28T04:27:13.683143Z"
    }
   },
   "outputs": [],
   "source": [
    "EPOCH = 20"
   ]
  },
  {
   "cell_type": "code",
   "execution_count": 15,
   "metadata": {
    "ExecuteTime": {
     "end_time": "2020-04-28T04:43:10.762055Z",
     "start_time": "2020-04-28T04:27:14.129033Z"
    }
   },
   "outputs": [
    {
     "name": "stdout",
     "output_type": "stream",
     "text": [
      "Epoch 1/20\n",
      "\u001b[1m88/88\u001b[0m \u001b[32m━━━━━━━━━━━━━━━━━━━━\u001b[0m\u001b[37m\u001b[0m \u001b[1m299s\u001b[0m 3s/step - accuracy: 0.7068 - loss: 1.9029 - val_accuracy: 1.0000 - val_loss: 0.0165\n",
      "Epoch 2/20\n",
      "\u001b[1m88/88\u001b[0m \u001b[32m━━━━━━━━━━━━━━━━━━━━\u001b[0m\u001b[37m\u001b[0m \u001b[1m488s\u001b[0m 6s/step - accuracy: 0.9966 - loss: 0.0186 - val_accuracy: 1.0000 - val_loss: 0.0028\n",
      "Epoch 3/20\n",
      "\u001b[1m88/88\u001b[0m \u001b[32m━━━━━━━━━━━━━━━━━━━━\u001b[0m\u001b[37m\u001b[0m \u001b[1m284s\u001b[0m 3s/step - accuracy: 0.9980 - loss: 0.0089 - val_accuracy: 1.0000 - val_loss: 0.0051\n",
      "Epoch 4/20\n",
      "\u001b[1m88/88\u001b[0m \u001b[32m━━━━━━━━━━━━━━━━━━━━\u001b[0m\u001b[37m\u001b[0m \u001b[1m295s\u001b[0m 3s/step - accuracy: 0.9985 - loss: 0.0072 - val_accuracy: 1.0000 - val_loss: 0.0039\n",
      "Epoch 5/20\n",
      "\u001b[1m88/88\u001b[0m \u001b[32m━━━━━━━━━━━━━━━━━━━━\u001b[0m\u001b[37m\u001b[0m \u001b[1m297s\u001b[0m 3s/step - accuracy: 0.9989 - loss: 0.0061 - val_accuracy: 1.0000 - val_loss: 8.7005e-04\n",
      "Epoch 6/20\n",
      "\u001b[1m88/88\u001b[0m \u001b[32m━━━━━━━━━━━━━━━━━━━━\u001b[0m\u001b[37m\u001b[0m \u001b[1m387s\u001b[0m 4s/step - accuracy: 0.9999 - loss: 0.0027 - val_accuracy: 1.0000 - val_loss: 0.0017\n",
      "Epoch 7/20\n",
      "\u001b[1m88/88\u001b[0m \u001b[32m━━━━━━━━━━━━━━━━━━━━\u001b[0m\u001b[37m\u001b[0m \u001b[1m812s\u001b[0m 9s/step - accuracy: 0.9995 - loss: 0.0032 - val_accuracy: 1.0000 - val_loss: 5.9380e-04\n",
      "Epoch 8/20\n",
      "\u001b[1m88/88\u001b[0m \u001b[32m━━━━━━━━━━━━━━━━━━━━\u001b[0m\u001b[37m\u001b[0m \u001b[1m360s\u001b[0m 4s/step - accuracy: 1.0000 - loss: 0.0013 - val_accuracy: 1.0000 - val_loss: 3.1336e-04\n",
      "Epoch 9/20\n",
      "\u001b[1m88/88\u001b[0m \u001b[32m━━━━━━━━━━━━━━━━━━━━\u001b[0m\u001b[37m\u001b[0m \u001b[1m298s\u001b[0m 3s/step - accuracy: 1.0000 - loss: 0.0011 - val_accuracy: 1.0000 - val_loss: 5.2444e-04\n",
      "Epoch 10/20\n",
      "\u001b[1m88/88\u001b[0m \u001b[32m━━━━━━━━━━━━━━━━━━━━\u001b[0m\u001b[37m\u001b[0m \u001b[1m291s\u001b[0m 3s/step - accuracy: 1.0000 - loss: 0.0013 - val_accuracy: 1.0000 - val_loss: 2.2258e-04\n",
      "Epoch 11/20\n",
      "\u001b[1m88/88\u001b[0m \u001b[32m━━━━━━━━━━━━━━━━━━━━\u001b[0m\u001b[37m\u001b[0m \u001b[1m280s\u001b[0m 3s/step - accuracy: 1.0000 - loss: 0.0013 - val_accuracy: 1.0000 - val_loss: 3.8554e-04\n",
      "Epoch 12/20\n",
      "\u001b[1m88/88\u001b[0m \u001b[32m━━━━━━━━━━━━━━━━━━━━\u001b[0m\u001b[37m\u001b[0m \u001b[1m383s\u001b[0m 4s/step - accuracy: 0.9982 - loss: 0.0028 - val_accuracy: 1.0000 - val_loss: 1.6733e-04\n",
      "Epoch 13/20\n",
      "\u001b[1m88/88\u001b[0m \u001b[32m━━━━━━━━━━━━━━━━━━━━\u001b[0m\u001b[37m\u001b[0m \u001b[1m466s\u001b[0m 5s/step - accuracy: 1.0000 - loss: 8.2516e-04 - val_accuracy: 1.0000 - val_loss: 1.9446e-04\n",
      "Epoch 14/20\n",
      "\u001b[1m88/88\u001b[0m \u001b[32m━━━━━━━━━━━━━━━━━━━━\u001b[0m\u001b[37m\u001b[0m \u001b[1m287s\u001b[0m 3s/step - accuracy: 1.0000 - loss: 0.0017 - val_accuracy: 1.0000 - val_loss: 2.2570e-04\n",
      "Epoch 15/20\n",
      "\u001b[1m88/88\u001b[0m \u001b[32m━━━━━━━━━━━━━━━━━━━━\u001b[0m\u001b[37m\u001b[0m \u001b[1m490s\u001b[0m 6s/step - accuracy: 1.0000 - loss: 6.7838e-04 - val_accuracy: 1.0000 - val_loss: 1.6021e-04\n",
      "Epoch 16/20\n",
      "\u001b[1m88/88\u001b[0m \u001b[32m━━━━━━━━━━━━━━━━━━━━\u001b[0m\u001b[37m\u001b[0m \u001b[1m697s\u001b[0m 8s/step - accuracy: 1.0000 - loss: 5.5079e-04 - val_accuracy: 1.0000 - val_loss: 1.4506e-04\n",
      "Epoch 17/20\n",
      "\u001b[1m88/88\u001b[0m \u001b[32m━━━━━━━━━━━━━━━━━━━━\u001b[0m\u001b[37m\u001b[0m \u001b[1m924s\u001b[0m 11s/step - accuracy: 1.0000 - loss: 3.9477e-04 - val_accuracy: 1.0000 - val_loss: 7.9180e-05\n",
      "Epoch 18/20\n",
      "\u001b[1m88/88\u001b[0m \u001b[32m━━━━━━━━━━━━━━━━━━━━\u001b[0m\u001b[37m\u001b[0m \u001b[1m343s\u001b[0m 4s/step - accuracy: 1.0000 - loss: 5.4369e-04 - val_accuracy: 1.0000 - val_loss: 2.4765e-04\n",
      "Epoch 19/20\n",
      "\u001b[1m88/88\u001b[0m \u001b[32m━━━━━━━━━━━━━━━━━━━━\u001b[0m\u001b[37m\u001b[0m \u001b[1m290s\u001b[0m 3s/step - accuracy: 1.0000 - loss: 6.8035e-04 - val_accuracy: 1.0000 - val_loss: 2.5878e-04\n",
      "Epoch 20/20\n",
      "\u001b[1m88/88\u001b[0m \u001b[32m━━━━━━━━━━━━━━━━━━━━\u001b[0m\u001b[37m\u001b[0m \u001b[1m411s\u001b[0m 5s/step - accuracy: 1.0000 - loss: 3.1252e-04 - val_accuracy: 1.0000 - val_loss: 3.6770e-04\n"
     ]
    }
   ],
   "source": [
    "from tensorflow.keras.callbacks import EarlyStopping, ModelCheckpoint\n",
    "\n",
    "# Menentukan callback untuk early stopping\n",
    "early_stopping = EarlyStopping(\n",
    "    monitor='val_loss',  # Memonitor validasi loss\n",
    "    patience=3,          # Berhenti jika tidak ada perbaikan setelah 5 epoch\n",
    "    restore_best_weights=True  # Mengembalikan bobot terbaik\n",
    ")\n",
    "\n",
    "# # (Opsional) Menyimpan model terbaik selama pelatihan\n",
    "# model_checkpoint = ModelCheckpoint(\n",
    "#     'best_model.h5',    # Nama file model terbaik\n",
    "#     monitor='val_loss', # Memonitor validasi loss\n",
    "#     save_best_only=True # Hanya menyimpan model terbaik\n",
    "# )\n",
    "\n",
    "# Training model dengan callback\n",
    "history = model.fit(\n",
    "    x=train_data,\n",
    "    steps_per_epoch=len(train_generator),  # Total step per epoch\n",
    "    epochs=EPOCH,\n",
    "    validation_data=val_data,\n",
    "    validation_steps=len(val_generator),  # Total step validasi\n",
    "    shuffle=True, \n",
    "    verbose=1,\n",
    "    callbacks=[early_stopping]  # Memasukkan callbacks\n",
    ")\n"
   ]
  },
  {
   "cell_type": "code",
   "execution_count": 16,
   "metadata": {
    "ExecuteTime": {
     "end_time": "2020-04-28T04:49:58.925288Z",
     "start_time": "2020-04-28T04:49:58.922875Z"
    }
   },
   "outputs": [
    {
     "data": {
      "text/plain": [
       "[0.7388187050819397,\n",
       " 0.015212171711027622,\n",
       " 0.008716573938727379,\n",
       " 0.007995862513780594,\n",
       " 0.004870969336479902,\n",
       " 0.002879571635276079,\n",
       " 0.0026690380182117224,\n",
       " 0.0010578177170827985,\n",
       " 0.0015497663989663124,\n",
       " 0.0014666453935205936,\n",
       " 0.0013971026055514812,\n",
       " 0.00207593129016459,\n",
       " 0.0007946470868773758,\n",
       " 0.0013805009657517076,\n",
       " 0.0006757521769031882,\n",
       " 0.0005277851596474648,\n",
       " 0.00041576786315999925,\n",
       " 0.0005671617109328508,\n",
       " 0.0005847879801876843,\n",
       " 0.0005380257498472929]"
      ]
     },
     "execution_count": 16,
     "metadata": {},
     "output_type": "execute_result"
    }
   ],
   "source": [
    "history.history['loss']"
   ]
  },
  {
   "cell_type": "code",
   "execution_count": 17,
   "metadata": {
    "ExecuteTime": {
     "end_time": "2020-04-28T04:49:59.293485Z",
     "start_time": "2020-04-28T04:49:59.291038Z"
    }
   },
   "outputs": [
    {
     "data": {
      "text/plain": [
       "[0.8692857027053833,\n",
       " 0.9975000023841858,\n",
       " 0.9978571534156799,\n",
       " 0.9982143044471741,\n",
       " 0.9992856979370117,\n",
       " 0.9996428489685059,\n",
       " 0.9996428489685059,\n",
       " 1.0,\n",
       " 1.0,\n",
       " 1.0,\n",
       " 1.0,\n",
       " 0.9992856979370117,\n",
       " 1.0,\n",
       " 1.0,\n",
       " 1.0,\n",
       " 1.0,\n",
       " 1.0,\n",
       " 1.0,\n",
       " 1.0,\n",
       " 1.0]"
      ]
     },
     "execution_count": 17,
     "metadata": {},
     "output_type": "execute_result"
    }
   ],
   "source": [
    "history.history['accuracy']"
   ]
  },
  {
   "cell_type": "markdown",
   "metadata": {},
   "source": [
    "# Model Evaluation"
   ]
  },
  {
   "cell_type": "code",
   "execution_count": 18,
   "metadata": {},
   "outputs": [
    {
     "name": "stdout",
     "output_type": "stream",
     "text": [
      "Accuracy on training data: 1.0000 \n",
      "Loss on training data: 0.0000 \n",
      "\n",
      "Accuracy on test data: 1.0000 \n",
      "Loss on test data: 0.0121 \n",
      "\n"
     ]
    }
   ],
   "source": [
    "loss, acc = model.evaluate(train_data, steps=len(train_generator), verbose=0)\n",
    "print('Accuracy on training data: {:.4f} \\nLoss on training data: {:.4f}'.format(acc,loss),'\\n')\n",
    " \n",
    "loss, acc = model.evaluate(test_data, steps=len(test_generator), verbose=0)\n",
    "print('Accuracy on test data: {:.4f} \\nLoss on test data: {:.4f}'.format(acc,loss),'\\n')    "
   ]
  },
  {
   "cell_type": "code",
   "execution_count": 19,
   "metadata": {},
   "outputs": [
    {
     "name": "stderr",
     "output_type": "stream",
     "text": [
      "D:\\anaconda3\\Lib\\site-packages\\keras\\src\\trainers\\data_adapters\\py_dataset_adapter.py:122: UserWarning: Your `PyDataset` class should call `super().__init__(**kwargs)` in its constructor. `**kwargs` can include `workers`, `use_multiprocessing`, `max_queue_size`. Do not pass these arguments to `fit()`, as they will be ignored.\n",
      "  self._warn_if_super_not_called()\n"
     ]
    },
    {
     "name": "stdout",
     "output_type": "stream",
     "text": [
      "\u001b[1m11/11\u001b[0m \u001b[32m━━━━━━━━━━━━━━━━━━━━\u001b[0m\u001b[37m\u001b[0m \u001b[1m51s\u001b[0m 5s/step - accuracy: 1.0000 - loss: 5.9797e-05\n",
      "Validation Accuracy: 1.0000\n",
      "Validation Loss: 0.0001\n",
      "\u001b[1m11/11\u001b[0m \u001b[32m━━━━━━━━━━━━━━━━━━━━\u001b[0m\u001b[37m\u001b[0m \u001b[1m52s\u001b[0m 5s/step - accuracy: 1.0000 - loss: 0.0070\n",
      "Test Accuracy: 1.0000\n",
      "Test Loss: 0.0121\n"
     ]
    }
   ],
   "source": [
    "# Evaluasi pada data validasi\n",
    "val_loss, val_accuracy = model.evaluate(val_generator, steps=len(val_generator), verbose=1)\n",
    "print(f'Validation Accuracy: {val_accuracy:.4f}')\n",
    "print(f'Validation Loss: {val_loss:.4f}')\n",
    "\n",
    "# Evaluasi pada data uji\n",
    "test_loss, test_accuracy = model.evaluate(test_generator, steps=len(test_generator), verbose=1)\n",
    "print(f'Test Accuracy: {test_accuracy:.4f}')\n",
    "print(f'Test Loss: {test_loss:.4f}')\n"
   ]
  },
  {
   "cell_type": "code",
   "execution_count": 20,
   "metadata": {},
   "outputs": [
    {
     "name": "stdout",
     "output_type": "stream",
     "text": [
      "\u001b[1m11/11\u001b[0m \u001b[32m━━━━━━━━━━━━━━━━━━━━\u001b[0m\u001b[37m\u001b[0m \u001b[1m54s\u001b[0m 5s/step\n"
     ]
    },
    {
     "data": {
      "image/png": "[encoded data removed]",
      "text/plain": [
       "<Figure size 1000x700 with 2 Axes>"
      ]
     },
     "metadata": {},
     "output_type": "display_data"
    },
    {
     "name": "stdout",
     "output_type": "stream",
     "text": [
      "              precision    recall  f1-score   support\n",
      "\n",
      "    Keriting       1.00      1.00      1.00       119\n",
      "      Kuning       1.00      1.00      1.00       126\n",
      "        Layu       1.00      1.00      1.00       105\n",
      "\n",
      "    accuracy                           1.00       350\n",
      "   macro avg       1.00      1.00      1.00       350\n",
      "weighted avg       1.00      1.00      1.00       350\n",
      "\n",
      "Akurasi model pada data uji: 100.00%\n"
     ]
    }
   ],
   "source": [
    "import numpy as np\n",
    "import matplotlib.pyplot as plt\n",
    "import seaborn as sns\n",
    "from tensorflow.keras.preprocessing import image\n",
    "from sklearn.metrics import confusion_matrix, classification_report, accuracy_score\n",
    "\n",
    "# Prediksi pada data uji\n",
    "y_pred = model.predict(test_generator, verbose=1)\n",
    "y_pred_classes = np.argmax(y_pred, axis=1)\n",
    "\n",
    "# Validasi jumlah label\n",
    "y_true = test_generator.classes[:len(y_pred_classes)]  # Sinkronisasi jumlah sampel\n",
    "\n",
    "# Menghitung confusion matrix\n",
    "cm = confusion_matrix(y_true, y_pred_classes)\n",
    "\n",
    "# Menampilkan confusion matrix\n",
    "plt.figure(figsize=(10, 7))\n",
    "sns.heatmap(cm, annot=True, fmt='d', cmap='Blues', \n",
    "            xticklabels=test_generator.class_indices.keys(), \n",
    "            yticklabels=test_generator.class_indices.keys())\n",
    "plt.xlabel('Predicted Label')\n",
    "plt.ylabel('True Label')\n",
    "plt.title('Confusion Matrix')\n",
    "plt.show()\n",
    "\n",
    "# Menampilkan classification report\n",
    "class_labels = list(test_generator.class_indices.keys())\n",
    "report = classification_report(y_true, y_pred_classes, target_names=class_labels)\n",
    "print(report)\n",
    "\n",
    "# Menghitung akurasi\n",
    "accuracy = accuracy_score(y_true, y_pred_classes)\n",
    "print(f\"Akurasi model pada data uji: {accuracy * 100:.2f}%\")\n",
    "\n",
    "# Identifikasi prediksi yang salah\n",
    "misclassified_indices = np.where(y_true != y_pred_classes)[0]\n",
    "\n",
    "# Menampilkan gambar yang diprediksi salah beserta label yang benar dan yang diprediksi\n",
    "for idx in misclassified_indices:\n",
    "    # Ambil nama gambar dari generator\n",
    "    img_path = test_generator.filepaths[idx]  # Nama file gambar dari test_generator\n",
    "    true_label = class_labels[y_true[idx]]\n",
    "    pred_label = class_labels[y_pred_classes[idx]]\n",
    "    \n",
    "    # Muat dan tampilkan gambar\n",
    "    img = image.load_img(img_path, target_size=(224, 224))  # Sesuaikan ukuran jika diperlukan\n",
    "    plt.imshow(img)\n",
    "    plt.title(f\"True: {true_label}, Pred: {pred_label}\")\n",
    "    plt.axis('off')\n",
    "    plt.show()\n"
   ]
  },
  {
   "cell_type": "code",
   "execution_count": 21,
   "metadata": {},
   "outputs": [
    {
     "name": "stdout",
     "output_type": "stream",
     "text": [
      "Jumlah sampel uji dalam generator: 350\n",
      "Jumlah prediksi: 350\n",
      "Jumlah sampel uji dan prediksi SAMA.\n"
     ]
    }
   ],
   "source": [
    "# Periksa jumlah sampel uji\n",
    "print(f\"Jumlah sampel uji dalam generator: {test_generator.samples}\")\n",
    "\n",
    "# Periksa jumlah prediksi\n",
    "print(f\"Jumlah prediksi: {len(y_pred)}\")\n",
    "\n",
    "# Periksa apakah jumlahnya sama\n",
    "if len(y_pred) == test_generator.samples:\n",
    "    print(\"Jumlah sampel uji dan prediksi SAMA.\")\n",
    "else:\n",
    "    print(\"Jumlah sampel uji dan prediksi TIDAK SAMA.\")\n"
   ]
  },
  {
   "cell_type": "code",
   "execution_count": 22,
   "metadata": {},
   "outputs": [
    {
     "name": "stderr",
     "output_type": "stream",
     "text": [
      "C:\\Users\\VERI MARPAUNG\\AppData\\Local\\Temp\\ipykernel_23128\\2354461567.py:12: FutureWarning: \n",
      "\n",
      "Passing `palette` without assigning `hue` is deprecated and will be removed in v0.14.0. Assign the `x` variable to `hue` and set `legend=False` for the same effect.\n",
      "\n",
      "  sns.barplot(x=class_counts.index, y=class_counts.values, palette='viridis')\n"
     ]
    },
    {
     "data": {
      "image/png": "[encoded data removed]",
      "text/plain": [
       "<Figure size 1000x600 with 1 Axes>"
      ]
     },
     "metadata": {},
     "output_type": "display_data"
    }
   ],
   "source": [
    "import pandas as pd\n",
    "import matplotlib.pyplot as plt\n",
    "import seaborn as sns\n",
    "\n",
    "# Mengambil label kelas dari train_generator\n",
    "class_labels = train_generator.classes\n",
    "# Menghitung jumlah data pada setiap kelas\n",
    "class_counts = pd.Series(class_labels).value_counts()\n",
    "\n",
    "# Membuat plot distribusi kelas\n",
    "plt.figure(figsize=(10, 6))\n",
    "sns.barplot(x=class_counts.index, y=class_counts.values, palette='viridis')\n",
    "plt.title('Distribusi Kelas pada Data Pelatihan')\n",
    "plt.xlabel('Kelas')\n",
    "plt.ylabel('Jumlah Sampel')\n",
    "plt.xticks(ticks=range(len(class_counts)), labels=train_generator.class_indices.keys(), rotation=45)\n",
    "plt.show()\n"
   ]
  },
  {
   "cell_type": "markdown",
   "metadata": {},
   "source": [
    "# Plot the training"
   ]
  },
  {
   "cell_type": "code",
   "execution_count": 23,
   "metadata": {
    "ExecuteTime": {
     "end_time": "2020-04-28T04:50:02.171980Z",
     "start_time": "2020-04-28T04:50:02.170248Z"
    }
   },
   "outputs": [],
   "source": [
    "from matplotlib import pyplot as plt"
   ]
  },
  {
   "cell_type": "code",
   "execution_count": 24,
   "metadata": {
    "ExecuteTime": {
     "end_time": "2020-04-28T04:50:02.464233Z",
     "start_time": "2020-04-28T04:50:02.361846Z"
    }
   },
   "outputs": [
    {
     "data": {
      "image/png": "[encoded data removed]",
      "text/plain": [
       "<Figure size 640x480 with 1 Axes>"
      ]
     },
     "metadata": {},
     "output_type": "display_data"
    }
   ],
   "source": [
    "# Plot history: MAE\n",
    "plt.plot(history.history['loss'], label='Training Loss')\n",
    "plt.plot(history.history['val_loss'], label='Validation Loss')\n",
    "plt.title('Training and Validation Loss')\n",
    "plt.ylabel('value')\n",
    "plt.xlabel('No. epoch')\n",
    "plt.legend(loc=\"upper left\")\n",
    "plt.show()"
   ]
  },
  {
   "cell_type": "code",
   "execution_count": 25,
   "metadata": {
    "ExecuteTime": {
     "end_time": "2020-04-28T04:50:03.056913Z",
     "start_time": "2020-04-28T04:50:02.958192Z"
    }
   },
   "outputs": [
    {
     "data": {
      "image/png": "[encoded data removed]",
      "text/plain": [
       "<Figure size 640x480 with 1 Axes>"
      ]
     },
     "metadata": {},
     "output_type": "display_data"
    }
   ],
   "source": [
    "# Plot history: MSE\n",
    "plt.plot(history.history['accuracy'], label='Training Accuracy')\n",
    "plt.plot(history.history['val_accuracy'], label='Validation Accuracy')\n",
    "plt.title('Training and Validation Accuracy')\n",
    "plt.ylabel('value')\n",
    "plt.xlabel('No. epoch')\n",
    "plt.legend(loc=\"upper left\")\n",
    "plt.show()"
   ]
  },
  {
   "cell_type": "markdown",
   "metadata": {},
   "source": [
    "# Save Model"
   ]
  },
  {
   "cell_type": "code",
   "execution_count": 26,
   "metadata": {
    "ExecuteTime": {
     "end_time": "2020-04-28T04:50:15.324841Z",
     "start_time": "2020-04-28T04:50:15.176405Z"
    }
   },
   "outputs": [
    {
     "name": "stderr",
     "output_type": "stream",
     "text": [
      "WARNING:absl:You are saving your model as an HDF5 file via `model.save()` or `keras.saving.save_model(model)`. This file format is considered legacy. We recommend using instead the native Keras format, e.g. `model.save('my_model.keras')` or `keras.saving.save_model(model, 'my_model.keras')`. \n"
     ]
    },
    {
     "name": "stdout",
     "output_type": "stream",
     "text": [
      "Saving Model in .h5 format at model\\VGG16_all_augmented_v3.h5...\n"
     ]
    }
   ],
   "source": [
    "import os\n",
    "import tensorflow as tf\n",
    "\n",
    "MODEL_BASE_PATH = \"model\"\n",
    "SAVE_MODEL_NAME = \"VGG16_all_augmented_v3.h5\"\n",
    "save_model_path = os.path.join(MODEL_BASE_PATH, SAVE_MODEL_NAME)\n",
    "\n",
    "# Cek dan buat folder jika belum ada\n",
    "if not os.path.exists(os.path.join(MODEL_BASE_PATH)):\n",
    "    os.makedirs(os.path.join(MODEL_BASE_PATH))\n",
    "    \n",
    "# Menyimpan model dalam format .h5\n",
    "print('Saving Model in .h5 format at {}...'.format(save_model_path))\n",
    "model.save(save_model_path, include_optimizer=False)    \n"
   ]
  },
  {
   "cell_type": "code",
   "execution_count": null,
   "metadata": {},
   "outputs": [],
   "source": []
  }
 ],
 "metadata": {
  "interpreter": {
   "hash": "ecf5722fdaf1897a315d257d89d94520bfcaa453217d5becf09b39e73618b0de"
  },
  "kernelspec": {
   "display_name": "Python 3 (ipykernel)",
   "language": "python",
   "name": "python3"
  },
  "language_info": {
   "codemirror_mode": {
    "name": "ipython",
    "version": 3
   },
   "file_extension": ".py",
   "mimetype": "text/x-python",
   "name": "python",
   "nbconvert_exporter": "python",
   "pygments_lexer": "ipython3",
   "version": "3.12.4"
  },
  "toc": {
   "base_numbering": 1,
   "nav_menu": {},
   "number_sections": true,
   "sideBar": true,
   "skip_h1_title": false,
   "title_cell": "Table of Contents",
   "title_sidebar": "Contents",
   "toc_cell": false,
   "toc_position": {
    "height": "calc(100% - 180px)",
    "left": "10px",
    "top": "150px",
    "width": "409.6px"
   },
   "toc_section_display": true,
   "toc_window_display": true
  },
  "varInspector": {
   "cols": {
    "lenName": 16,
    "lenType": 16,
    "lenVar": 40
   },
   "kernels_config": {
    "python": {
     "delete_cmd_postfix": "",
     "delete_cmd_prefix": "del ",
     "library": "var_list.py",
     "varRefreshCmd": "print(var_dic_list())"
    },
    "r": {
     "delete_cmd_postfix": ") ",
     "delete_cmd_prefix": "rm(",
     "library": "var_list.r",
     "varRefreshCmd": "cat(var_dic_list()) "
    }
   },
   "types_to_exclude": [
    "module",
    "function",
    "builtin_function_or_method",
    "instance",
    "_Feature"
   ],
   "window_display": false
  }
 },
 "nbformat": 4,
 "nbformat_minor": 4
}
