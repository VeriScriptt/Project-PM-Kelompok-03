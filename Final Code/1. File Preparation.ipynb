{
 "cells": [
  {
   "cell_type": "markdown",
   "metadata": {},
   "source": [
    "# Kita Pisahkan datanya menjadi 3"
   ]
  },
  {
   "cell_type": "markdown",
   "metadata": {},
   "source": [
    "- train (data latih)\n",
    "- validation (validasi untuk data latih)\n",
    "- test (data testing untuk menguji model)"
   ]
  },
  {
   "cell_type": "code",
   "execution_count": 1,
   "metadata": {
    "ExecuteTime": {
     "end_time": "2020-04-27T13:36:44.577679Z",
     "start_time": "2020-04-27T13:36:44.576110Z"
    }
   },
   "outputs": [],
   "source": [
    "# extract melalui notebook jika diperlukan\n",
    "# !unzip flowers-recognition.zip"
   ]
  },
  {
   "cell_type": "code",
   "execution_count": 38,
   "metadata": {
    "ExecuteTime": {
     "end_time": "2020-04-27T13:20:25.152791Z",
     "start_time": "2020-04-27T13:20:25.151197Z"
    }
   },
   "outputs": [],
   "source": [
    "import os\n",
    "import pandas as pd"
   ]
  },
  {
   "cell_type": "code",
   "execution_count": 39,
   "metadata": {
    "ExecuteTime": {
     "end_time": "2020-04-27T13:20:25.411819Z",
     "start_time": "2020-04-27T13:20:25.410118Z"
    }
   },
   "outputs": [],
   "source": [
    "mypath= 'all_augmented/'"
   ]
  },
  {
   "cell_type": "code",
   "execution_count": 40,
   "metadata": {
    "ExecuteTime": {
     "end_time": "2020-04-27T13:20:26.610071Z",
     "start_time": "2020-04-27T13:20:26.587117Z"
    }
   },
   "outputs": [],
   "source": [
    "file_name = []\n",
    "tag = []\n",
    "full_path = []\n",
    "for path, subdirs, files in os.walk(mypath):\n",
    "    for name in files:\n",
    "        full_path.append(os.path.join(path, name).replace(\"\\\\\",\"/\")) \n",
    "        tag.append(path.split('/')[-1])        \n",
    "        file_name.append(name)"
   ]
  },
  {
   "cell_type": "code",
   "execution_count": 41,
   "metadata": {
    "ExecuteTime": {
     "end_time": "2020-04-27T13:24:26.890142Z",
     "start_time": "2020-04-27T13:24:26.883846Z"
    }
   },
   "outputs": [
    {
     "data": {
      "text/plain": [
       "tag\n",
       "Keriting    167\n",
       "Kuning      173\n",
       "Layu        160\n",
       "dtype: int64"
      ]
     },
     "execution_count": 41,
     "metadata": {},
     "output_type": "execute_result"
    }
   ],
   "source": [
    "# memasukan variabel yang sudah dikumpulkan pada looping di atas menjadi sebuah dataframe agar rapih\n",
    "df = pd.DataFrame({\"path\":full_path,'file_name':file_name,\"tag\":tag})\n",
    "df.groupby(['tag']).size()"
   ]
  },
  {
   "cell_type": "code",
   "execution_count": 42,
   "metadata": {
    "ExecuteTime": {
     "end_time": "2020-04-27T13:24:27.173074Z",
     "start_time": "2020-04-27T13:24:27.167878Z"
    }
   },
   "outputs": [
    {
     "data": {
      "text/html": [
       "<div>\n",
       "<style scoped>\n",
       "    .dataframe tbody tr th:only-of-type {\n",
       "        vertical-align: middle;\n",
       "    }\n",
       "\n",
       "    .dataframe tbody tr th {\n",
       "        vertical-align: top;\n",
       "    }\n",
       "\n",
       "    .dataframe thead th {\n",
       "        text-align: right;\n",
       "    }\n",
       "</style>\n",
       "<table border=\"1\" class=\"dataframe\">\n",
       "  <thead>\n",
       "    <tr style=\"text-align: right;\">\n",
       "      <th></th>\n",
       "      <th>path</th>\n",
       "      <th>file_name</th>\n",
       "      <th>tag</th>\n",
       "    </tr>\n",
       "  </thead>\n",
       "  <tbody>\n",
       "    <tr>\n",
       "      <th>0</th>\n",
       "      <td>all_augmented/Keriting/IMG20241127171041_01.jpg</td>\n",
       "      <td>IMG20241127171041_01.jpg</td>\n",
       "      <td>Keriting</td>\n",
       "    </tr>\n",
       "    <tr>\n",
       "      <th>1</th>\n",
       "      <td>all_augmented/Keriting/IMG20241127171042.jpg</td>\n",
       "      <td>IMG20241127171042.jpg</td>\n",
       "      <td>Keriting</td>\n",
       "    </tr>\n",
       "    <tr>\n",
       "      <th>2</th>\n",
       "      <td>all_augmented/Keriting/IMG20241127171043.jpg</td>\n",
       "      <td>IMG20241127171043.jpg</td>\n",
       "      <td>Keriting</td>\n",
       "    </tr>\n",
       "    <tr>\n",
       "      <th>3</th>\n",
       "      <td>all_augmented/Keriting/IMG20241127171043_01.jpg</td>\n",
       "      <td>IMG20241127171043_01.jpg</td>\n",
       "      <td>Keriting</td>\n",
       "    </tr>\n",
       "    <tr>\n",
       "      <th>4</th>\n",
       "      <td>all_augmented/Keriting/IMG20241127171053.jpg</td>\n",
       "      <td>IMG20241127171053.jpg</td>\n",
       "      <td>Keriting</td>\n",
       "    </tr>\n",
       "  </tbody>\n",
       "</table>\n",
       "</div>"
      ],
      "text/plain": [
       "                                              path                 file_name  \\\n",
       "0  all_augmented/Keriting/IMG20241127171041_01.jpg  IMG20241127171041_01.jpg   \n",
       "1     all_augmented/Keriting/IMG20241127171042.jpg     IMG20241127171042.jpg   \n",
       "2     all_augmented/Keriting/IMG20241127171043.jpg     IMG20241127171043.jpg   \n",
       "3  all_augmented/Keriting/IMG20241127171043_01.jpg  IMG20241127171043_01.jpg   \n",
       "4     all_augmented/Keriting/IMG20241127171053.jpg     IMG20241127171053.jpg   \n",
       "\n",
       "        tag  \n",
       "0  Keriting  \n",
       "1  Keriting  \n",
       "2  Keriting  \n",
       "3  Keriting  \n",
       "4  Keriting  "
      ]
     },
     "execution_count": 42,
     "metadata": {},
     "output_type": "execute_result"
    }
   ],
   "source": [
    "#cek sample datanya\n",
    "df.head()"
   ]
  },
  {
   "cell_type": "markdown",
   "metadata": {},
   "source": [
    "# Train test split"
   ]
  },
  {
   "cell_type": "code",
   "execution_count": 43,
   "metadata": {
    "ExecuteTime": {
     "end_time": "2020-04-27T13:24:27.608099Z",
     "start_time": "2020-04-27T13:24:27.606378Z"
    }
   },
   "outputs": [],
   "source": [
    "#load library untuk train test split\n",
    "from sklearn.model_selection import train_test_split"
   ]
  },
  {
   "cell_type": "code",
   "execution_count": 44,
   "metadata": {
    "ExecuteTime": {
     "end_time": "2020-04-27T13:24:38.449924Z",
     "start_time": "2020-04-27T13:24:38.447907Z"
    }
   },
   "outputs": [],
   "source": [
    "#variabel yang digunakan pada pemisahan data ini\n",
    "X= df['path']\n",
    "y= df['tag']"
   ]
  },
  {
   "cell_type": "code",
   "execution_count": 45,
   "metadata": {
    "ExecuteTime": {
     "end_time": "2020-04-27T13:24:38.787271Z",
     "start_time": "2020-04-27T13:24:38.781487Z"
    }
   },
   "outputs": [],
   "source": [
    "# split dataset awal menjadi data train dan test\n",
    "X_train, X_test, y_train, y_test = train_test_split(\n",
    "    X, y, test_size=0.20, random_state=300)"
   ]
  },
  {
   "cell_type": "code",
   "execution_count": 46,
   "metadata": {
    "ExecuteTime": {
     "end_time": "2020-04-27T13:24:38.946665Z",
     "start_time": "2020-04-27T13:24:38.942709Z"
    }
   },
   "outputs": [],
   "source": [
    "# kemudian data test dibagi menjadi 2 sehingga menjadi data test dan data validation.\n",
    "X_test, X_val, y_test, y_val = train_test_split(\n",
    "    X_test, y_test, test_size=0.5, random_state=100)"
   ]
  },
  {
   "cell_type": "code",
   "execution_count": 47,
   "metadata": {
    "ExecuteTime": {
     "end_time": "2020-04-27T13:27:35.790033Z",
     "start_time": "2020-04-27T13:27:35.784677Z"
    }
   },
   "outputs": [],
   "source": [
    "# menyatukan kedalam masing-masing dataframe\n",
    "\n",
    "df_tr = pd.DataFrame({'path':X_train\n",
    "              ,'tag':y_train\n",
    "             ,'set':'train'})\n",
    "\n",
    "df_te = pd.DataFrame({'path':X_test\n",
    "              ,'tag':y_test\n",
    "             ,'set':'test'})\n",
    "\n",
    "df_val = pd.DataFrame({'path':X_val\n",
    "              ,'tag':y_val\n",
    "             ,'set':'validation'})"
   ]
  },
  {
   "cell_type": "code",
   "execution_count": 48,
   "metadata": {
    "ExecuteTime": {
     "end_time": "2020-04-27T13:27:36.006934Z",
     "start_time": "2020-04-27T13:27:36.004779Z"
    }
   },
   "outputs": [
    {
     "name": "stdout",
     "output_type": "stream",
     "text": [
      "train size 400\n",
      "val size 50\n",
      "test size 50\n"
     ]
    }
   ],
   "source": [
    "print('train size', len(df_tr))\n",
    "print('val size', len(df_te))\n",
    "print('test size', len(df_val))"
   ]
  },
  {
   "cell_type": "code",
   "execution_count": 49,
   "metadata": {
    "ExecuteTime": {
     "end_time": "2020-04-27T13:45:04.988035Z",
     "start_time": "2020-04-27T13:45:04.977060Z"
    }
   },
   "outputs": [
    {
     "name": "stdout",
     "output_type": "stream",
     "text": [
      "===================================================== \n",
      "\n",
      "set         tag     \n",
      "test        Keriting     17\n",
      "            Kuning       18\n",
      "            Layu         15\n",
      "train       Keriting    129\n",
      "            Kuning      141\n",
      "            Layu        130\n",
      "validation  Keriting     21\n",
      "            Kuning       14\n",
      "            Layu         15\n",
      "dtype: int64 \n",
      "\n",
      "===================================================== \n",
      "\n"
     ]
    },
    {
     "data": {
      "text/html": [
       "<div>\n",
       "<style scoped>\n",
       "    .dataframe tbody tr th:only-of-type {\n",
       "        vertical-align: middle;\n",
       "    }\n",
       "\n",
       "    .dataframe tbody tr th {\n",
       "        vertical-align: top;\n",
       "    }\n",
       "\n",
       "    .dataframe thead th {\n",
       "        text-align: right;\n",
       "    }\n",
       "</style>\n",
       "<table border=\"1\" class=\"dataframe\">\n",
       "  <thead>\n",
       "    <tr style=\"text-align: right;\">\n",
       "      <th></th>\n",
       "      <th>path</th>\n",
       "      <th>tag</th>\n",
       "      <th>set</th>\n",
       "    </tr>\n",
       "  </thead>\n",
       "  <tbody>\n",
       "    <tr>\n",
       "      <th>254</th>\n",
       "      <td>all_augmented/Layu/IMG_20241025_114537.jpg</td>\n",
       "      <td>Layu</td>\n",
       "      <td>train</td>\n",
       "    </tr>\n",
       "    <tr>\n",
       "      <th>230</th>\n",
       "      <td>all_augmented/Kuning/IMG_20241025_102929774_BU...</td>\n",
       "      <td>Kuning</td>\n",
       "      <td>train</td>\n",
       "    </tr>\n",
       "    <tr>\n",
       "      <th>142</th>\n",
       "      <td>all_augmented/Kuning/IMG_20241025_103505_877.jpg</td>\n",
       "      <td>Kuning</td>\n",
       "      <td>train</td>\n",
       "    </tr>\n",
       "  </tbody>\n",
       "</table>\n",
       "</div>"
      ],
      "text/plain": [
       "                                                  path     tag    set\n",
       "254         all_augmented/Layu/IMG_20241025_114537.jpg    Layu  train\n",
       "230  all_augmented/Kuning/IMG_20241025_102929774_BU...  Kuning  train\n",
       "142   all_augmented/Kuning/IMG_20241025_103505_877.jpg  Kuning  train"
      ]
     },
     "execution_count": 49,
     "metadata": {},
     "output_type": "execute_result"
    }
   ],
   "source": [
    "# Menggabungkan data frame df_tr, df_te, dan df_val\n",
    "df_all = pd.concat([df_tr, df_te, df_val], ignore_index=True)\n",
    "\n",
    "print('===================================================== \\n')\n",
    "print(df_all.groupby(['set', 'tag']).size(), '\\n')\n",
    "\n",
    "print('===================================================== \\n')\n",
    "\n",
    "# Cek sample datanya\n",
    "df_all.sample(3)\n"
   ]
  },
  {
   "cell_type": "markdown",
   "metadata": {},
   "source": [
    "# Merapihkan ke folder set masing-masing"
   ]
  },
  {
   "cell_type": "code",
   "execution_count": 50,
   "metadata": {
    "ExecuteTime": {
     "end_time": "2020-04-27T13:45:15.341975Z",
     "start_time": "2020-04-27T13:45:15.340307Z"
    }
   },
   "outputs": [],
   "source": [
    "# menghapus folder dataset jika diperlukan\n",
    "#!rm -rf dataset/"
   ]
  },
  {
   "cell_type": "code",
   "execution_count": 51,
   "metadata": {
    "ExecuteTime": {
     "end_time": "2020-04-27T13:45:15.523556Z",
     "start_time": "2020-04-27T13:45:15.521907Z"
    }
   },
   "outputs": [],
   "source": [
    "import shutil\n",
    "from tqdm.notebook import tqdm as tq"
   ]
  },
  {
   "cell_type": "code",
   "execution_count": 52,
   "metadata": {
    "ExecuteTime": {
     "end_time": "2020-04-27T13:45:17.315452Z",
     "start_time": "2020-04-27T13:45:17.313905Z"
    }
   },
   "outputs": [],
   "source": [
    "datasource_path = \"all_augmented/\"\n",
    "dataset_path = \"all_augmented/after_split/\""
   ]
  },
  {
   "cell_type": "code",
   "execution_count": 53,
   "metadata": {
    "ExecuteTime": {
     "end_time": "2020-04-27T13:45:21.624008Z",
     "start_time": "2020-04-27T13:45:20.037843Z"
    }
   },
   "outputs": [
    {
     "data": {
      "application/vnd.jupyter.widget-view+json": {
       "model_id": "d51fca76882b43aa8a5700ff98acacc6",
       "version_major": 2,
       "version_minor": 0
      },
      "text/plain": [
       "0it [00:00, ?it/s]"
      ]
     },
     "metadata": {},
     "output_type": "display_data"
    }
   ],
   "source": [
    "for index, row in tq(df_all.iterrows(), ):\n",
    "    \n",
    "    #detect filepath\n",
    "    file_path = row['path']\n",
    "    if os.path.exists(file_path) == False:\n",
    "            file_path = os.path.join(datasource_path,row['tag'],row['image'].split('.')[0])            \n",
    "    \n",
    "    #make folder destination dirs\n",
    "    if os.path.exists(os.path.join(dataset_path,row['set'],row['tag'])) == False:\n",
    "        os.makedirs(os.path.join(dataset_path,row['set'],row['tag']))\n",
    "    \n",
    "    #define file dest\n",
    "    destination_file_name = file_path.split('/')[-1]\n",
    "    file_dest = os.path.join(dataset_path,row['set'],row['tag'],destination_file_name)\n",
    "    \n",
    "    #copy file from source to dest\n",
    "    if os.path.exists(file_dest) == False:\n",
    "        shutil.copy2(file_path,file_dest)"
   ]
  },
  {
   "cell_type": "markdown",
   "metadata": {},
   "source": [
    "# Finish! Dataset siap digunakan "
   ]
  },
  {
   "cell_type": "code",
   "execution_count": 62,
   "metadata": {},
   "outputs": [
    {
     "name": "stdout",
     "output_type": "stream",
     "text": [
      "Proses augmentasi selesai.\n",
      "Total gambar asli diproses: 15\n",
      "Total gambar augmentasi yang dihasilkan: 90\n"
     ]
    }
   ],
   "source": [
    "import os\n",
    "import numpy as np\n",
    "import uuid\n",
    "from tensorflow.keras.preprocessing.image import load_img, img_to_array, array_to_img\n",
    "import random\n",
    "\n",
    "# === Konfigurasi Dataset ===\n",
    "original_dataset_path = 'all_augmented/after_split/validation/Layu'  # Path folder dataset asli\n",
    "target_size = (224, 224)  # Ukuran target gambar\n",
    "augmentations_per_image = 6  # Jumlah augmentasi yang dilakukan per gambar\n",
    "\n",
    "# === Fungsi untuk Augmentasi ===\n",
    "def save_augmented_image(img_array, category_path, prefix):\n",
    "    \"\"\"\n",
    "    Simpan gambar hasil augmentasi ke folder yang sama.\n",
    "    \"\"\"\n",
    "    img_array = np.clip(img_array, 0, 255).astype('uint8')  # Jaga nilai pixel tetap valid\n",
    "    img = array_to_img(img_array)  # Konversi kembali ke format gambar\n",
    "    save_path = os.path.join(category_path, f\"{prefix}_{uuid.uuid4()}.jpg\")\n",
    "    img.save(save_path)\n",
    "\n",
    "def augment_image(img_array):\n",
    "    \"\"\"\n",
    "    Terapkan berbagai augmentasi pada gambar.\n",
    "    \"\"\"\n",
    "    augmented_images = []\n",
    "\n",
    "    # Flip Horizontal\n",
    "    augmented_images.append((\"flip\", np.fliplr(img_array)))\n",
    "\n",
    "    # Rotate Clockwise 90°\n",
    "    augmented_images.append((\"rot90_cw\", np.rot90(img_array, k=-1)))\n",
    "\n",
    "    # Rotate Counter-Clockwise 90°\n",
    "    augmented_images.append((\"rot90_ccw\", np.rot90(img_array, k=1)))\n",
    "\n",
    "    # Random Brightness\n",
    "    brightness_factor = random.uniform(0.8, 1.2)\n",
    "    augmented_images.append((\"bright\", img_array * brightness_factor))\n",
    "\n",
    "    # Random Exposure Adjustment\n",
    "    exposure_factor = random.uniform(0.9, 1.1)\n",
    "    augmented_images.append((\"expose\", img_array * exposure_factor))\n",
    "\n",
    "    # Random Rotation (-15° to +15°)\n",
    "    rotation_factor = random.choice([-15, 15])\n",
    "    augmented_images.append((f\"rot{rotation_factor}\", np.rot90(img_array, k=rotation_factor)))\n",
    "\n",
    "    return augmented_images\n",
    "\n",
    "def process_folder(folder_path):\n",
    "    \"\"\"\n",
    "    Proses semua gambar di dalam folder, menyimpan augmentasi ke folder yang sama.\n",
    "    \"\"\"\n",
    "    total_original_images = 0\n",
    "    total_augmented_images = 0\n",
    "\n",
    "    for root, _, files in os.walk(folder_path):\n",
    "        for img_file in files:\n",
    "            if not img_file.lower().endswith(('jpg', 'jpeg', 'png')):\n",
    "                continue  # Skip jika bukan file gambar\n",
    "\n",
    "            # Path ke gambar\n",
    "            img_path = os.path.join(root, img_file)\n",
    "\n",
    "            # Load gambar asli\n",
    "            img = load_img(img_path, target_size=target_size)\n",
    "            img_array = img_to_array(img)\n",
    "\n",
    "            # Terapkan augmentasi\n",
    "            augmented_images = augment_image(img_array)\n",
    "            for prefix, augmented_img in random.sample(augmented_images, augmentations_per_image):\n",
    "                save_augmented_image(augmented_img, root, prefix)  # Simpan di folder yang sama\n",
    "                total_augmented_images += 1\n",
    "\n",
    "            total_original_images += 1\n",
    "\n",
    "    return total_original_images, total_augmented_images\n",
    "\n",
    "# === Jalankan Augmentasi ===\n",
    "total_original_images, total_augmented_images = process_folder(original_dataset_path)\n",
    "\n",
    "print(f\"Proses augmentasi selesai.\")\n",
    "print(f\"Total gambar asli diproses: {total_original_images}\")\n",
    "print(f\"Total gambar augmentasi yang dihasilkan: {total_augmented_images}\")\n"
   ]
  },
  {
   "cell_type": "code",
   "execution_count": null,
   "metadata": {},
   "outputs": [],
   "source": []
  }
 ],
 "metadata": {
  "interpreter": {
   "hash": "ecf5722fdaf1897a315d257d89d94520bfcaa453217d5becf09b39e73618b0de"
  },
  "kernelspec": {
   "display_name": "Python 3 (ipykernel)",
   "language": "python",
   "name": "python3"
  },
  "language_info": {
   "codemirror_mode": {
    "name": "ipython",
    "version": 3
   },
   "file_extension": ".py",
   "mimetype": "text/x-python",
   "name": "python",
   "nbconvert_exporter": "python",
   "pygments_lexer": "ipython3",
   "version": "3.12.4"
  },
  "toc": {
   "base_numbering": 1,
   "nav_menu": {},
   "number_sections": true,
   "sideBar": true,
   "skip_h1_title": false,
   "title_cell": "Table of Contents",
   "title_sidebar": "Contents",
   "toc_cell": false,
   "toc_position": {},
   "toc_section_display": true,
   "toc_window_display": true
  },
  "varInspector": {
   "cols": {
    "lenName": 16,
    "lenType": 16,
    "lenVar": 40
   },
   "kernels_config": {
    "python": {
     "delete_cmd_postfix": "",
     "delete_cmd_prefix": "del ",
     "library": "var_list.py",
     "varRefreshCmd": "print(var_dic_list())"
    },
    "r": {
     "delete_cmd_postfix": ") ",
     "delete_cmd_prefix": "rm(",
     "library": "var_list.r",
     "varRefreshCmd": "cat(var_dic_list()) "
    }
   },
   "types_to_exclude": [
    "module",
    "function",
    "builtin_function_or_method",
    "instance",
    "_Feature"
   ],
   "window_display": false
  }
 },
 "nbformat": 4,
 "nbformat_minor": 4
}
